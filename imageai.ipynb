{
  "nbformat": 4,
  "nbformat_minor": 0,
  "metadata": {
    "colab": {
      "name": "imageai.ipynb",
      "version": "0.3.2",
      "provenance": [],
      "collapsed_sections": [],
      "toc_visible": true,
      "include_colab_link": true
    },
    "kernelspec": {
      "name": "python3",
      "display_name": "Python 3"
    },
    "accelerator": "GPU"
  },
  "cells": [
    {
      "cell_type": "markdown",
      "metadata": {
        "id": "view-in-github",
        "colab_type": "text"
      },
      "source": [
        "<a href=\"https://colab.research.google.com/github/fraziermatthew/ImageAI/blob/master/imageai.ipynb\" target=\"_parent\"><img src=\"https://colab.research.google.com/assets/colab-badge.svg\" alt=\"Open In Colab\"/></a>"
      ]
    },
    {
      "cell_type": "code",
      "metadata": {
        "id": "NAOYyglPah43",
        "colab_type": "code",
        "outputId": "e91a5796-7ddc-47c3-e4ab-53b97310d2ab",
        "colab": {
          "base_uri": "https://localhost:8080/",
          "height": 122
        }
      },
      "source": [
        "from google.colab import drive\n",
        "drive.mount('/usr/local/src')"
      ],
      "execution_count": 0,
      "outputs": [
        {
          "output_type": "stream",
          "text": [
            "Go to this URL in a browser: https://accounts.google.com/o/oauth2/auth?client_id=947318989803-6bn6qk8qdgf4n4g3pfee6491hc0brc4i.apps.googleusercontent.com&redirect_uri=urn%3Aietf%3Awg%3Aoauth%3A2.0%3Aoob&scope=email%20https%3A%2F%2Fwww.googleapis.com%2Fauth%2Fdocs.test%20https%3A%2F%2Fwww.googleapis.com%2Fauth%2Fdrive%20https%3A%2F%2Fwww.googleapis.com%2Fauth%2Fdrive.photos.readonly%20https%3A%2F%2Fwww.googleapis.com%2Fauth%2Fpeopleapi.readonly&response_type=code\n",
            "\n",
            "Enter your authorization code:\n",
            "··········\n",
            "Mounted at /usr/local/src\n"
          ],
          "name": "stdout"
        }
      ]
    },
    {
      "cell_type": "code",
      "metadata": {
        "id": "CeUIbipi3h4T",
        "colab_type": "code",
        "outputId": "69a14316-13e5-4b2e-ffc9-de388c4512c0",
        "colab": {
          "base_uri": "https://localhost:8080/",
          "height": 34
        }
      },
      "source": [
        "import tensorflow as tf\n",
        "device_name = tf.test.gpu_device_name()\n",
        "if device_name != '/device:GPU:0':\n",
        "  raise SystemError('GPU device not found')\n",
        "print('Found GPU at: {}'.format(device_name))"
      ],
      "execution_count": 1,
      "outputs": [
        {
          "output_type": "stream",
          "text": [
            "Found GPU at: /device:GPU:0\n"
          ],
          "name": "stdout"
        }
      ]
    },
    {
      "cell_type": "markdown",
      "metadata": {
        "id": "FGsHdjTsXvDc",
        "colab_type": "text"
      },
      "source": [
        "**Step 1**\n",
        "\n",
        "Install all dependencies: \n",
        "\n",
        "* tensorflow\n",
        "* numpy\n",
        "* scipy\n",
        "* opencv-python\n",
        "* pillow\n",
        "* matplotlib\n",
        "* h5py\n",
        "* keras\n",
        "* ImageAI\n",
        "* the RetinaNet model file that will be used for object detection to /usr/local/src/\n",
        "\n"
      ]
    },
    {
      "cell_type": "code",
      "metadata": {
        "id": "Y5KptaU_XxVS",
        "colab_type": "code",
        "colab": {
          "base_uri": "https://localhost:8080/",
          "height": 904
        },
        "outputId": "adcd1efe-b06e-4be1-a44b-d05e4494abca"
      },
      "source": [
        "!pip3 install tensorflow\n",
        "!pip3 install numpy\n",
        "!pip3 install scipy\n",
        "!pip3 install opencv-python\n",
        "!pip3 install pillow\n",
        "!pip3 install matplotlib\n",
        "!pip3 install h5py\n",
        "!pip3 install keras\n",
        "!pip3 install https://github.com/OlafenwaMoses/ImageAI/releases/download/2.0.2/imageai-2.0.2-py3-none-any.whl"
      ],
      "execution_count": 2,
      "outputs": [
        {
          "output_type": "stream",
          "text": [
            "Requirement already satisfied: tensorflow in /usr/local/lib/python3.6/dist-packages (1.13.1)\n",
            "Requirement already satisfied: tensorboard<1.14.0,>=1.13.0 in /usr/local/lib/python3.6/dist-packages (from tensorflow) (1.13.1)\n",
            "Requirement already satisfied: absl-py>=0.1.6 in /usr/local/lib/python3.6/dist-packages (from tensorflow) (0.7.1)\n",
            "Requirement already satisfied: gast>=0.2.0 in /usr/local/lib/python3.6/dist-packages (from tensorflow) (0.2.2)\n",
            "Requirement already satisfied: astor>=0.6.0 in /usr/local/lib/python3.6/dist-packages (from tensorflow) (0.7.1)\n",
            "Requirement already satisfied: termcolor>=1.1.0 in /usr/local/lib/python3.6/dist-packages (from tensorflow) (1.1.0)\n",
            "Requirement already satisfied: six>=1.10.0 in /usr/local/lib/python3.6/dist-packages (from tensorflow) (1.12.0)\n",
            "Requirement already satisfied: grpcio>=1.8.6 in /usr/local/lib/python3.6/dist-packages (from tensorflow) (1.15.0)\n",
            "Requirement already satisfied: wheel>=0.26 in /usr/local/lib/python3.6/dist-packages (from tensorflow) (0.33.1)\n",
            "Requirement already satisfied: keras-applications>=1.0.6 in /usr/local/lib/python3.6/dist-packages (from tensorflow) (1.0.7)\n",
            "Requirement already satisfied: protobuf>=3.6.1 in /usr/local/lib/python3.6/dist-packages (from tensorflow) (3.7.1)\n",
            "Requirement already satisfied: tensorflow-estimator<1.14.0rc0,>=1.13.0 in /usr/local/lib/python3.6/dist-packages (from tensorflow) (1.13.0)\n",
            "Requirement already satisfied: keras-preprocessing>=1.0.5 in /usr/local/lib/python3.6/dist-packages (from tensorflow) (1.0.9)\n",
            "Requirement already satisfied: numpy>=1.13.3 in /usr/local/lib/python3.6/dist-packages (from tensorflow) (1.16.3)\n",
            "Requirement already satisfied: markdown>=2.6.8 in /usr/local/lib/python3.6/dist-packages (from tensorboard<1.14.0,>=1.13.0->tensorflow) (3.1)\n",
            "Requirement already satisfied: werkzeug>=0.11.15 in /usr/local/lib/python3.6/dist-packages (from tensorboard<1.14.0,>=1.13.0->tensorflow) (0.15.2)\n",
            "Requirement already satisfied: h5py in /usr/local/lib/python3.6/dist-packages (from keras-applications>=1.0.6->tensorflow) (2.8.0)\n",
            "Requirement already satisfied: setuptools in /usr/local/lib/python3.6/dist-packages (from protobuf>=3.6.1->tensorflow) (41.0.1)\n",
            "Requirement already satisfied: mock>=2.0.0 in /usr/local/lib/python3.6/dist-packages (from tensorflow-estimator<1.14.0rc0,>=1.13.0->tensorflow) (2.0.0)\n",
            "Requirement already satisfied: pbr>=0.11 in /usr/local/lib/python3.6/dist-packages (from mock>=2.0.0->tensorflow-estimator<1.14.0rc0,>=1.13.0->tensorflow) (5.2.0)\n",
            "Requirement already satisfied: numpy in /usr/local/lib/python3.6/dist-packages (1.16.3)\n",
            "Requirement already satisfied: scipy in /usr/local/lib/python3.6/dist-packages (1.2.1)\n",
            "Requirement already satisfied: numpy>=1.8.2 in /usr/local/lib/python3.6/dist-packages (from scipy) (1.16.3)\n",
            "Requirement already satisfied: opencv-python in /usr/local/lib/python3.6/dist-packages (3.4.5.20)\n",
            "Requirement already satisfied: numpy>=1.11.3 in /usr/local/lib/python3.6/dist-packages (from opencv-python) (1.16.3)\n",
            "Requirement already satisfied: pillow in /usr/local/lib/python3.6/dist-packages (4.3.0)\n",
            "Requirement already satisfied: olefile in /usr/local/lib/python3.6/dist-packages (from pillow) (0.46)\n",
            "Requirement already satisfied: matplotlib in /usr/local/lib/python3.6/dist-packages (3.0.3)\n",
            "Requirement already satisfied: kiwisolver>=1.0.1 in /usr/local/lib/python3.6/dist-packages (from matplotlib) (1.1.0)\n",
            "Requirement already satisfied: cycler>=0.10 in /usr/local/lib/python3.6/dist-packages (from matplotlib) (0.10.0)\n",
            "Requirement already satisfied: pyparsing!=2.0.4,!=2.1.2,!=2.1.6,>=2.0.1 in /usr/local/lib/python3.6/dist-packages (from matplotlib) (2.4.0)\n",
            "Requirement already satisfied: numpy>=1.10.0 in /usr/local/lib/python3.6/dist-packages (from matplotlib) (1.16.3)\n",
            "Requirement already satisfied: python-dateutil>=2.1 in /usr/local/lib/python3.6/dist-packages (from matplotlib) (2.5.3)\n",
            "Requirement already satisfied: setuptools in /usr/local/lib/python3.6/dist-packages (from kiwisolver>=1.0.1->matplotlib) (41.0.1)\n",
            "Requirement already satisfied: six in /usr/local/lib/python3.6/dist-packages (from cycler>=0.10->matplotlib) (1.12.0)\n",
            "Requirement already satisfied: h5py in /usr/local/lib/python3.6/dist-packages (2.8.0)\n",
            "Requirement already satisfied: numpy>=1.7 in /usr/local/lib/python3.6/dist-packages (from h5py) (1.16.3)\n",
            "Requirement already satisfied: six in /usr/local/lib/python3.6/dist-packages (from h5py) (1.12.0)\n",
            "Requirement already satisfied: keras in /usr/local/lib/python3.6/dist-packages (2.2.4)\n",
            "Requirement already satisfied: numpy>=1.9.1 in /usr/local/lib/python3.6/dist-packages (from keras) (1.16.3)\n",
            "Requirement already satisfied: keras-applications>=1.0.6 in /usr/local/lib/python3.6/dist-packages (from keras) (1.0.7)\n",
            "Requirement already satisfied: h5py in /usr/local/lib/python3.6/dist-packages (from keras) (2.8.0)\n",
            "Requirement already satisfied: pyyaml in /usr/local/lib/python3.6/dist-packages (from keras) (3.13)\n",
            "Requirement already satisfied: scipy>=0.14 in /usr/local/lib/python3.6/dist-packages (from keras) (1.2.1)\n",
            "Requirement already satisfied: keras-preprocessing>=1.0.5 in /usr/local/lib/python3.6/dist-packages (from keras) (1.0.9)\n",
            "Requirement already satisfied: six>=1.9.0 in /usr/local/lib/python3.6/dist-packages (from keras) (1.12.0)\n",
            "Collecting imageai==2.0.2 from https://github.com/OlafenwaMoses/ImageAI/releases/download/2.0.2/imageai-2.0.2-py3-none-any.whl\n",
            "\u001b[?25l  Downloading https://github.com/OlafenwaMoses/ImageAI/releases/download/2.0.2/imageai-2.0.2-py3-none-any.whl (151kB)\n",
            "\u001b[K     |████████████████████████████████| 153kB 795kB/s \n",
            "\u001b[?25hInstalling collected packages: imageai\n",
            "Successfully installed imageai-2.0.2\n"
          ],
          "name": "stdout"
        }
      ]
    },
    {
      "cell_type": "code",
      "metadata": {
        "id": "sH8bWthP38E0",
        "colab_type": "code",
        "outputId": "8e3b44ab-ef45-410e-a3d6-68629b1a736d",
        "colab": {
          "base_uri": "https://localhost:8080/",
          "height": 34
        }
      },
      "source": [
        "cd /usr/local/src"
      ],
      "execution_count": 3,
      "outputs": [
        {
          "output_type": "stream",
          "text": [
            "/usr/local/src\n"
          ],
          "name": "stdout"
        }
      ]
    },
    {
      "cell_type": "markdown",
      "metadata": {
        "id": "lCJAvw_CZXJQ",
        "colab_type": "text"
      },
      "source": [
        "Load the FirstDetection.py file and image\n",
        "Note: Make sure to fully install the file to CoLab because it will produce an error if not done properly."
      ]
    },
    {
      "cell_type": "markdown",
      "metadata": {
        "id": "d9MGr7zfzHDt",
        "colab_type": "text"
      },
      "source": [
        "Run it"
      ]
    },
    {
      "cell_type": "code",
      "metadata": {
        "id": "7Cg83pYSuSzK",
        "colab_type": "code",
        "colab": {
          "base_uri": "https://localhost:8080/",
          "height": 2601
        },
        "outputId": "a8687d35-716f-47ab-d046-1ffdda871f85"
      },
      "source": [
        "from imageai.Detection import ObjectDetection\n",
        "import os\n",
        "\n",
        "execution_path = os.getcwd()\n",
        "\n",
        "detector = ObjectDetection()\n",
        "detector.setModelTypeAsRetinaNet()\n",
        "detector.setModelPath( os.path.join(execution_path , \"resnet50_coco_best_v2.0.1.h5\"))\n",
        "detector.loadModel()\n",
        "# obj_percent = []\n",
        "# i = 0\n",
        "# sumCat = 0\n",
        "# countCat = 0\n",
        "# while i < 100:\n",
        "#   detections = detector.detectObjectsFromImage(input_image=os.path.join(execution_path , \"cat\"+str(i)+\".jpg\"), output_image_path=os.path.join(execution_path , \"output/output\"+str(i)+\".png\"))\n",
        "#   for eachObject in detections:\n",
        "#     print(eachObject[\"name\"] , \" : \" , eachObject[\"percentage_probability\"] )\n",
        "#     if (eachObject[\"name\"] == \"cat\"):\n",
        "#       obj_percent.append(eachObject[\"percentage_probability\"])\n",
        "#       countCat += 1\n",
        "#       sumCat += eachObject[\"percentage_probability\"]\n",
        "#   i = i + 1\n",
        "  \n",
        "# # average probability\n",
        "# averageCat = (sum/count)\n",
        "# print (\"average probability of a cat is: \", averageCat)\n",
        "\n",
        "obj_percent2 = []\n",
        "j = 0\n",
        "sumDog = 0\n",
        "countDog = 0\n",
        "while j < 100:\n",
        "  detections = detector.detectObjectsFromImage(input_image=os.path.join(execution_path , \"inputDog/dog\"+str(j)+\".jpg\"), output_image_path=os.path.join(execution_path , \"outputDog/output\"+str(j)+\".png\"))\n",
        "  for eachObject in detections:\n",
        "    print(eachObject[\"name\"] , \" : \" , eachObject[\"percentage_probability\"] )\n",
        "    if (eachObject[\"name\"] == \"dog\"):\n",
        "      obj_percent2.append(eachObject[\"percentage_probability\"])\n",
        "      countDog += 1\n",
        "      sumDog += eachObject[\"percentage_probability\"]\n",
        "  j = j + 1\n",
        "  \n",
        "# average probability\n",
        "averageDog = (sumDog/countDog)\n",
        "print (\"average probability of a cat is: \", averageDog)\n"
      ],
      "execution_count": 18,
      "outputs": [
        {
          "output_type": "stream",
          "text": [
            "person  :  94.79947090148926\n",
            "dog  :  92.3757553100586\n",
            "dog  :  87.5340223312378\n",
            "person  :  55.42557239532471\n",
            "dog  :  73.44157695770264\n",
            "teddy bear  :  95.64144015312195\n",
            "dog  :  82.91831016540527\n",
            "dog  :  99.93144273757935\n",
            "dog  :  99.94803667068481\n",
            "dog  :  94.63327527046204\n",
            "horse  :  80.8441162109375\n",
            "dog  :  99.98959302902222\n",
            "dog  :  80.33138513565063\n",
            "person  :  57.44963884353638\n",
            "person  :  72.5821852684021\n",
            "dog  :  58.38031768798828\n",
            "dog  :  97.88095951080322\n",
            "dog  :  99.87429976463318\n",
            "cow  :  84.96863842010498\n",
            "dog  :  89.92926478385925\n",
            "tie  :  93.24362277984619\n",
            "tie  :  54.23784255981445\n",
            "dog  :  76.57604217529297\n",
            "person  :  85.19295454025269\n",
            "dog  :  85.0926399230957\n",
            "dog  :  71.71341180801392\n",
            "dog  :  55.30315041542053\n",
            "dog  :  96.90885543823242\n",
            "dog  :  88.15112113952637\n",
            "dog  :  71.81897163391113\n",
            "dog  :  54.62186336517334\n",
            "dog  :  98.89744520187378\n",
            "dog  :  98.67439270019531\n",
            "dog  :  98.11630249023438\n",
            "person  :  90.13413786888123\n",
            "dog  :  98.83167743682861\n",
            "person  :  85.90692281723022\n",
            "dog  :  95.80751657485962\n",
            "dog  :  62.276530265808105\n",
            "dog  :  99.70892071723938\n",
            "dog  :  85.73188781738281\n",
            "dog  :  64.47663307189941\n",
            "person  :  55.87671995162964\n",
            "dog  :  94.95627880096436\n",
            "dog  :  95.33851742744446\n",
            "dog  :  93.31057667732239\n",
            "dog  :  93.39882135391235\n",
            "dog  :  99.88124370574951\n",
            "dog  :  98.64749312400818\n",
            "dog  :  99.19244647026062\n",
            "dog  :  53.24011445045471\n",
            "person  :  81.89504146575928\n",
            "dog  :  99.97310638427734\n",
            "potted plant  :  81.59140944480896\n",
            "potted plant  :  55.24069666862488\n",
            "potted plant  :  88.62048387527466\n",
            "dog  :  83.09670686721802\n",
            "cat  :  64.37290906906128\n",
            "person  :  56.33212924003601\n",
            "dog  :  99.94663000106812\n",
            "person  :  55.81927299499512\n",
            "person  :  59.6895694732666\n",
            "horse  :  71.89900279045105\n",
            "person  :  60.43805480003357\n",
            "dog  :  97.37129807472229\n",
            "dog  :  99.80941414833069\n",
            "dog  :  99.07230138778687\n",
            "dog  :  87.62099742889404\n",
            "dog  :  91.54356718063354\n",
            "dog  :  99.15175437927246\n",
            "dog  :  99.80012774467468\n",
            "dog  :  99.09274578094482\n",
            "giraffe  :  99.965500831604\n",
            "dog  :  85.13163924217224\n",
            "dog  :  50.97408890724182\n",
            "horse  :  91.46803617477417\n",
            "dog  :  80.83838224411011\n",
            "dog  :  99.31195378303528\n",
            "dog  :  98.83564710617065\n",
            "dog  :  94.09247636795044\n",
            "dog  :  80.69368004798889\n",
            "dog  :  99.64500069618225\n",
            "dog  :  98.69192838668823\n",
            "dog  :  66.90846681594849\n",
            "dog  :  87.47658133506775\n",
            "dog  :  94.83126401901245\n",
            "couch  :  50.50894618034363\n",
            "dog  :  89.90753889083862\n",
            "tennis racket  :  50.1384973526001\n",
            "dog  :  99.82448220252991\n",
            "dog  :  62.913334369659424\n",
            "person  :  81.32272958755493\n",
            "dog  :  62.85385489463806\n",
            "person  :  74.60253238677979\n",
            "dog  :  74.36718940734863\n",
            "cow  :  73.7828016281128\n",
            "chair  :  56.89660906791687\n",
            "sports ball  :  61.82146072387695\n",
            "bench  :  81.21371865272522\n",
            "frisbee  :  83.38742256164551\n",
            "dog  :  97.85740971565247\n",
            "sheep  :  50.70607662200928\n",
            "dog  :  95.32334804534912\n",
            "frisbee  :  56.26547932624817\n",
            "dog  :  80.73720932006836\n",
            "dog  :  99.6564507484436\n",
            "dog  :  95.11957168579102\n",
            "dog  :  70.7798421382904\n",
            "dog  :  96.10463976860046\n",
            "dog  :  92.20590591430664\n",
            "dog  :  97.18836545944214\n",
            "dog  :  81.82861804962158\n",
            "dog  :  99.43540096282959\n",
            "dog  :  83.47787857055664\n",
            "dog  :  99.53017234802246\n",
            "person  :  70.60365676879883\n",
            "dog  :  99.40520524978638\n",
            "dog  :  65.94911217689514\n",
            "dog  :  53.486013412475586\n",
            "dog  :  78.6078929901123\n",
            "dog  :  86.74854040145874\n",
            "cat  :  71.44185900688171\n",
            "dog  :  94.7714626789093\n",
            "dog  :  90.57916402816772\n",
            "person  :  55.19026517868042\n",
            "dog  :  65.72737693786621\n",
            "dog  :  73.09318780899048\n",
            "bed  :  57.856929302215576\n",
            "person  :  58.46407413482666\n",
            "dog  :  94.39001083374023\n",
            "dog  :  94.32205557823181\n",
            "person  :  91.32288694381714\n",
            "dog  :  99.7119665145874\n",
            "dog  :  99.96575117111206\n",
            "dog  :  99.84687566757202\n",
            "elephant  :  62.68503665924072\n",
            "cow  :  70.52745223045349\n",
            "dog  :  99.64962005615234\n",
            "dog  :  83.39717388153076\n",
            "cat  :  57.98196196556091\n",
            "dog  :  52.44013071060181\n",
            "dog  :  88.0635142326355\n",
            "dog  :  97.18865156173706\n",
            "person  :  56.9389283657074\n",
            "dog  :  68.07562112808228\n",
            "dog  :  64.67142105102539\n",
            "dog  :  93.16147565841675\n",
            "dog  :  86.66747808456421\n",
            "dog  :  89.61912393569946\n",
            "dog  :  99.35905933380127\n",
            "dog  :  96.9444990158081\n",
            "average probability of a cat is:  87.39718522344317\n"
          ],
          "name": "stdout"
        }
      ]
    },
    {
      "cell_type": "code",
      "metadata": {
        "id": "dAk5yPCLSgpX",
        "colab_type": "code",
        "colab": {}
      },
      "source": [
        "!mkdir inputDog"
      ],
      "execution_count": 0,
      "outputs": []
    },
    {
      "cell_type": "markdown",
      "metadata": {
        "id": "RY5DlMoVN3Hn",
        "colab_type": "text"
      },
      "source": [
        "# Custom Model Test\n",
        "Testing on a rotated image - ResNet Model vs. Custom Trained Model"
      ]
    },
    {
      "cell_type": "code",
      "metadata": {
        "id": "atxj9_vvNYVX",
        "colab_type": "code",
        "outputId": "e331f1e5-0b6b-4b15-e77e-69163b65c4ee",
        "colab": {
          "base_uri": "https://localhost:8080/",
          "height": 34
        }
      },
      "source": [
        "from imageai.Detection import ObjectDetection\n",
        "import os\n",
        "\n",
        "execution_path = os.getcwd()\n",
        "\n",
        "# Detector for original ResNet model on rotated image\n",
        "detector = ObjectDetection()\n",
        "detector.setModelTypeAsRetinaNet()\n",
        "detector.setModelPath( os.path.join(execution_path , \"resnet50_coco_best_v2.0.1.h5\"))\n",
        "detector.loadModel()\n",
        "\n",
        "# Detector for original ResNet model on rotated image\n",
        "# detector2 = ObjectDetection()\n",
        "# detector2.setModelTypeAsRetinaNet()\n",
        "# detector2.setModelPath( os.path.join(execution_path , \"model_ex-013_acc-0.640000.h5\"))\n",
        "# detector2.loadModel()\n",
        "\n",
        "\n",
        "detections = detector.detectObjectsFromImage(input_image=os.path.join(execution_path , \"cat5.jpg\"), output_image_path=os.path.join(execution_path , \"original.png\"))\n",
        "# detections2 = detector2.detectObjectsFromImage(input_image=os.path.join(execution_path , \"cat5.jpg\"), output_image_path=os.path.join(execution_path , \"custom.png\"))\n",
        "\n",
        "\n",
        "for eachObject in detections:\n",
        "    print(eachObject[\"name\"] , \" : \" , eachObject[\"percentage_probability\"] )\n",
        "    \n",
        "# for eachObject in detections2:\n",
        "#     print(eachObject[\"name\"] , \" : \" , eachObject[\"percentage_probability\"] )"
      ],
      "execution_count": 0,
      "outputs": [
        {
          "output_type": "stream",
          "text": [
            "cat  :  53.72655391693115\n"
          ],
          "name": "stdout"
        }
      ]
    },
    {
      "cell_type": "code",
      "metadata": {
        "id": "CyEq7ar3CldX",
        "colab_type": "code",
        "outputId": "c653afd7-a60c-4026-bda0-4e9e49b1dc39",
        "colab": {
          "base_uri": "https://localhost:8080/",
          "height": 34
        }
      },
      "source": [
        "import cv2\n",
        "import os, os.path\n",
        "\n",
        "\n",
        "path = \"/usr/local/src/cat\"\n",
        "i = 3\n",
        "\n",
        "while i <= 3:\n",
        "  imgpath =  path + str(i) + \".jpg\"\n",
        "  print(imgpath)\n",
        "  img = cv2.imread(imgpath, 1)\n",
        "  #img = cv2.cvtColor(img, cv2.COLOR_BGR2RGB)\n",
        "  \n",
        "  rows, columns, channels = img.shape\n",
        "\n",
        "  R = cv2.getRotationMatrix2D((columns/2, rows/2), 270, 1)\n",
        "  output = cv2.warpAffine(img, R, (columns, rows))\n",
        "  cv2.imwrite(\"/usr/local/src/rotate-\" + str(i) + \".jpg\", output)\n",
        "  i = i + 1\n",
        "\n",
        "\n"
      ],
      "execution_count": 0,
      "outputs": [
        {
          "output_type": "stream",
          "text": [
            "/usr/local/src/cat.4003.jpg\n"
          ],
          "name": "stdout"
        }
      ]
    }
  ]
}