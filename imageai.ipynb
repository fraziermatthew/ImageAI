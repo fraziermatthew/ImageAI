{
  "nbformat": 4,
  "nbformat_minor": 0,
  "metadata": {
    "colab": {
      "name": "imageai.ipynb",
      "version": "0.3.2",
      "provenance": [],
      "collapsed_sections": [],
      "include_colab_link": true
    },
    "kernelspec": {
      "name": "python3",
      "display_name": "Python 3"
    },
    "accelerator": "GPU"
  },
  "cells": [
    {
      "cell_type": "markdown",
      "metadata": {
        "id": "view-in-github",
        "colab_type": "text"
      },
      "source": [
        "<a href=\"https://colab.research.google.com/github/fraziermatthew/ImageAI/blob/master/imageai.ipynb\" target=\"_parent\"><img src=\"https://colab.research.google.com/assets/colab-badge.svg\" alt=\"Open In Colab\"/></a>"
      ]
    },
    {
      "metadata": {
        "id": "NAOYyglPah43",
        "colab_type": "code",
        "outputId": "e91a5796-7ddc-47c3-e4ab-53b97310d2ab",
        "colab": {
          "base_uri": "https://localhost:8080/",
          "height": 122
        }
      },
      "cell_type": "code",
      "source": [
        "from google.colab import drive\n",
        "drive.mount('/usr/local/src')"
      ],
      "execution_count": 0,
      "outputs": [
        {
          "output_type": "stream",
          "text": [
            "Go to this URL in a browser: https://accounts.google.com/o/oauth2/auth?client_id=947318989803-6bn6qk8qdgf4n4g3pfee6491hc0brc4i.apps.googleusercontent.com&redirect_uri=urn%3Aietf%3Awg%3Aoauth%3A2.0%3Aoob&scope=email%20https%3A%2F%2Fwww.googleapis.com%2Fauth%2Fdocs.test%20https%3A%2F%2Fwww.googleapis.com%2Fauth%2Fdrive%20https%3A%2F%2Fwww.googleapis.com%2Fauth%2Fdrive.photos.readonly%20https%3A%2F%2Fwww.googleapis.com%2Fauth%2Fpeopleapi.readonly&response_type=code\n",
            "\n",
            "Enter your authorization code:\n",
            "··········\n",
            "Mounted at /usr/local/src\n"
          ],
          "name": "stdout"
        }
      ]
    },
    {
      "metadata": {
        "id": "CeUIbipi3h4T",
        "colab_type": "code",
        "outputId": "d554339f-1ae4-44f2-c050-ede3c4845394",
        "colab": {
          "base_uri": "https://localhost:8080/",
          "height": 34
        }
      },
      "cell_type": "code",
      "source": [
        "import tensorflow as tf\n",
        "device_name = tf.test.gpu_device_name()\n",
        "if device_name != '/device:GPU:0':\n",
        "  raise SystemError('GPU device not found')\n",
        "print('Found GPU at: {}'.format(device_name))"
      ],
      "execution_count": 0,
      "outputs": [
        {
          "output_type": "stream",
          "text": [
            "Found GPU at: /device:GPU:0\n"
          ],
          "name": "stdout"
        }
      ]
    },
    {
      "metadata": {
        "id": "FGsHdjTsXvDc",
        "colab_type": "text"
      },
      "cell_type": "markdown",
      "source": [
        "**Step 1**\n",
        "\n",
        "Install all dependencies: \n",
        "\n",
        "* tensorflow\n",
        "* numpy\n",
        "* scipy\n",
        "* opencv-python\n",
        "* pillow\n",
        "* matplotlib\n",
        "* h5py\n",
        "* keras\n",
        "* ImageAI\n",
        "* the RetinaNet model file that will be used for object detection to /usr/local/src/\n",
        "\n"
      ]
    },
    {
      "metadata": {
        "id": "Y5KptaU_XxVS",
        "colab_type": "code",
        "colab": {}
      },
      "cell_type": "code",
      "source": [
        "!pip3 install tensorflow\n",
        "!pip3 install numpy\n",
        "!pip3 install scipy\n",
        "!pip3 install opencv-python\n",
        "!pip3 install pillow\n",
        "!pip3 install matplotlib\n",
        "!pip3 install h5py\n",
        "!pip3 install keras\n",
        "!pip3 install https://github.com/OlafenwaMoses/ImageAI/releases/download/2.0.2/imageai-2.0.2-py3-none-any.whl"
      ],
      "execution_count": 0,
      "outputs": []
    },
    {
      "metadata": {
        "id": "sH8bWthP38E0",
        "colab_type": "code",
        "outputId": "a476e7ec-eda1-4998-fed3-58913a8c9f60",
        "colab": {
          "base_uri": "https://localhost:8080/",
          "height": 34
        }
      },
      "cell_type": "code",
      "source": [
        "cd /usr/local/src"
      ],
      "execution_count": 0,
      "outputs": [
        {
          "output_type": "stream",
          "text": [
            "/usr/local/src\n"
          ],
          "name": "stdout"
        }
      ]
    },
    {
      "metadata": {
        "id": "lCJAvw_CZXJQ",
        "colab_type": "text"
      },
      "cell_type": "markdown",
      "source": [
        "Load the FirstDetection.py file and image\n",
        "Note: Make sure to fully install the file to CoLab because it will produce an error if not done properly."
      ]
    },
    {
      "metadata": {
        "id": "d9MGr7zfzHDt",
        "colab_type": "text"
      },
      "cell_type": "markdown",
      "source": [
        "Run it"
      ]
    },
    {
      "metadata": {
        "id": "7Cg83pYSuSzK",
        "colab_type": "code",
        "colab": {}
      },
      "cell_type": "code",
      "source": [
        "from imageai.Detection import ObjectDetection\n",
        "import os\n",
        "\n",
        "execution_path = os.getcwd()\n",
        "\n",
        "detector = ObjectDetection()\n",
        "detector.setModelTypeAsRetinaNet()\n",
        "detector.setModelPath( os.path.join(execution_path , \"resnet50_coco_best_v2.0.1.h5\"))\n",
        "detector.loadModel()\n",
        "detections = detector.detectObjectsFromImage(input_image=os.path.join(execution_path , \"cat.4003.jpg\"), output_image_path=os.path.join(execution_path , \"testnew.png\"))\n",
        "detections2 = detector.detectObjectsFromImage(input_image=os.path.join(execution_path , \"rotate-3.jpg\"), output_image_path=os.path.join(execution_path , \"test2new.png\"))\n",
        "\n",
        "\n",
        "for eachObject in detections:\n",
        "    print(eachObject[\"name\"] , \" : \" , eachObject[\"percentage_probability\"] )\n",
        "    \n",
        "for eachObject in detections2:\n",
        "    print(eachObject[\"name\"] , \" : \" , eachObject[\"percentage_probability\"] )"
      ],
      "execution_count": 0,
      "outputs": []
    },
    {
      "metadata": {
        "id": "dAk5yPCLSgpX",
        "colab_type": "code",
        "colab": {}
      },
      "cell_type": "code",
      "source": [
        ""
      ],
      "execution_count": 0,
      "outputs": []
    },
    {
      "metadata": {
        "id": "RY5DlMoVN3Hn",
        "colab_type": "text"
      },
      "cell_type": "markdown",
      "source": [
        "# Custom Model Test\n",
        "Testing on a rotated image - ResNet Model vs. Custom Trained Model"
      ]
    },
    {
      "metadata": {
        "id": "atxj9_vvNYVX",
        "colab_type": "code",
        "outputId": "e331f1e5-0b6b-4b15-e77e-69163b65c4ee",
        "colab": {
          "base_uri": "https://localhost:8080/",
          "height": 34
        }
      },
      "cell_type": "code",
      "source": [
        "from imageai.Detection import ObjectDetection\n",
        "import os\n",
        "\n",
        "execution_path = os.getcwd()\n",
        "\n",
        "# Detector for original ResNet model on rotated image\n",
        "detector = ObjectDetection()\n",
        "detector.setModelTypeAsRetinaNet()\n",
        "detector.setModelPath( os.path.join(execution_path , \"resnet50_coco_best_v2.0.1.h5\"))\n",
        "detector.loadModel()\n",
        "\n",
        "# Detector for original ResNet model on rotated image\n",
        "# detector2 = ObjectDetection()\n",
        "# detector2.setModelTypeAsRetinaNet()\n",
        "# detector2.setModelPath( os.path.join(execution_path , \"model_ex-013_acc-0.640000.h5\"))\n",
        "# detector2.loadModel()\n",
        "\n",
        "\n",
        "detections = detector.detectObjectsFromImage(input_image=os.path.join(execution_path , \"cat5.jpg\"), output_image_path=os.path.join(execution_path , \"original.png\"))\n",
        "# detections2 = detector2.detectObjectsFromImage(input_image=os.path.join(execution_path , \"cat5.jpg\"), output_image_path=os.path.join(execution_path , \"custom.png\"))\n",
        "\n",
        "\n",
        "for eachObject in detections:\n",
        "    print(eachObject[\"name\"] , \" : \" , eachObject[\"percentage_probability\"] )\n",
        "    \n",
        "# for eachObject in detections2:\n",
        "#     print(eachObject[\"name\"] , \" : \" , eachObject[\"percentage_probability\"] )"
      ],
      "execution_count": 0,
      "outputs": [
        {
          "output_type": "stream",
          "text": [
            "cat  :  53.72655391693115\n"
          ],
          "name": "stdout"
        }
      ]
    },
    {
      "metadata": {
        "id": "CyEq7ar3CldX",
        "colab_type": "code",
        "outputId": "c653afd7-a60c-4026-bda0-4e9e49b1dc39",
        "colab": {
          "base_uri": "https://localhost:8080/",
          "height": 34
        }
      },
      "cell_type": "code",
      "source": [
        "import cv2\n",
        "import os, os.path\n",
        "\n",
        "\n",
        "path = \"/usr/local/src/cat\"\n",
        "i = 3\n",
        "\n",
        "while i <= 3:\n",
        "  imgpath =  path + str(i) + \".jpg\"\n",
        "  print(imgpath)\n",
        "  img = cv2.imread(imgpath, 1)\n",
        "  #img = cv2.cvtColor(img, cv2.COLOR_BGR2RGB)\n",
        "  \n",
        "  rows, columns, channels = img.shape\n",
        "\n",
        "  R = cv2.getRotationMatrix2D((columns/2, rows/2), 270, 1)\n",
        "  output = cv2.warpAffine(img, R, (columns, rows))\n",
        "  cv2.imwrite(\"/usr/local/src/rotate-\" + str(i) + \".jpg\", output)\n",
        "  i = i + 1\n",
        "\n",
        "\n"
      ],
      "execution_count": 0,
      "outputs": [
        {
          "output_type": "stream",
          "text": [
            "/usr/local/src/cat.4003.jpg\n"
          ],
          "name": "stdout"
        }
      ]
    }
  ]
}